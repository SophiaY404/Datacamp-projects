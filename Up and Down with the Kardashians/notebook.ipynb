{
 "cells": [
  {
   "cell_type": "markdown",
   "metadata": {
    "dc": {
     "key": "3"
    },
    "deletable": false,
    "editable": false,
    "run_control": {
     "frozen": true
    },
    "tags": [
     "context"
    ]
   },
   "source": [
    "## 1. The sisters and Google Trends\n",
    "<p>While I'm not a fan nor a hater of the Kardashians and Jenners, the polarizing family intrigues me. Why? Their marketing prowess. Say what you will about them and what they stand for, they are great at the hype game. Everything they touch turns to content.</p>\n",
    "<p>The sisters in particular over the past decade have been especially productive in this regard. Let's get some facts straight. I consider the \"sisters\" to be the following daughters of Kris Jenner. Three from her first marriage to lawyer <a href=\"https://en.wikipedia.org/wiki/Robert_Kardashian\">Robert Kardashian</a>:</p>\n",
    "<ul>\n",
    "<li><a href=\"https://en.wikipedia.org/wiki/Kourtney_Kardashian\">Kourtney Kardashian</a> (daughter of Robert Kardashian, born in 1979)</li>\n",
    "<li><a href=\"https://en.wikipedia.org/wiki/Kim_Kardashian\">Kim Kardashian</a> (daughter of Robert Kardashian, born in 1980)</li>\n",
    "<li><a href=\"https://en.wikipedia.org/wiki/Khlo%C3%A9_Kardashian\">Khloé Kardashian</a> (daughter of Robert Kardashian, born in 1984)</li>\n",
    "</ul>\n",
    "<p>And two from her second marriage to Olympic gold medal-winning decathlete, <a href=\"https://en.wikipedia.org/wiki/Caitlyn_Jenner\">Caitlyn Jenner</a> (formerly Bruce):</p>\n",
    "<ul>\n",
    "<li><a href=\"https://en.wikipedia.org/wiki/Kendall_Jenner\">Kendall Jenner</a> (daughter of Caitlyn Jenner, born in 1995)</li>\n",
    "<li><a href=\"https://en.wikipedia.org/wiki/Kylie_Jenner\">Kylie Jenner</a> (daughter of Caitlyn Jenner, born in 1997)</li>\n",
    "</ul>\n",
    "<p><img src=\"https://assets.datacamp.com/production/project_538/img/kardashian_jenner_family_tree.png\" alt=\"Kardashian Jenner sisters family tree\"></p>\n",
    "<p>This family tree can be confusing, but we aren't here to explain it. We're here to explore the data underneath the hype, and we'll do it using search interest data from Google Trends. We'll recreate the Google Trends plot to visualize their ups and downs over time, then make a few custom plots of our own. And we'll answer the big question: <strong>is Kim even the most famous sister anymore?</strong></p>\n",
    "<p>First, let's load and inspect our Google Trends data, which was downloaded in CSV form. The <a href=\"https://trends.google.com/trends/explore?date=2007-01-01%202019-03-21&q=%2Fm%2F0261x8t,%2Fm%2F043p2f2,%2Fm%2F043ttm7,%2Fm%2F05_5_yx,%2Fm%2F05_5_yh\">query</a> parameters: each of the sisters, worldwide search data, 2007 to present day. (2007 was the year Kim became \"active\" according to Wikipedia.)</p>"
   ]
  },
  {
   "cell_type": "code",
   "execution_count": 1,
   "metadata": {
    "dc": {
     "key": "3"
    },
    "tags": [
     "sample_code"
    ]
   },
   "outputs": [
    {
     "data": {
      "text/html": [
       "<div>\n",
       "<style scoped>\n",
       "    .dataframe tbody tr th:only-of-type {\n",
       "        vertical-align: middle;\n",
       "    }\n",
       "\n",
       "    .dataframe tbody tr th {\n",
       "        vertical-align: top;\n",
       "    }\n",
       "\n",
       "    .dataframe thead th {\n",
       "        text-align: right;\n",
       "    }\n",
       "</style>\n",
       "<table border=\"1\" class=\"dataframe\">\n",
       "  <thead>\n",
       "    <tr style=\"text-align: right;\">\n",
       "      <th></th>\n",
       "      <th>Month</th>\n",
       "      <th>Kim Kardashian: (Worldwide)</th>\n",
       "      <th>Khloé Kardashian: (Worldwide)</th>\n",
       "      <th>Kourtney Kardashian: (Worldwide)</th>\n",
       "      <th>Kendall Jenner: (Worldwide)</th>\n",
       "      <th>Kylie Jenner: (Worldwide)</th>\n",
       "    </tr>\n",
       "  </thead>\n",
       "  <tbody>\n",
       "    <tr>\n",
       "      <th>0</th>\n",
       "      <td>2007-01</td>\n",
       "      <td>2</td>\n",
       "      <td>&lt;1</td>\n",
       "      <td>&lt;1</td>\n",
       "      <td>&lt;1</td>\n",
       "      <td>2</td>\n",
       "    </tr>\n",
       "    <tr>\n",
       "      <th>1</th>\n",
       "      <td>2007-02</td>\n",
       "      <td>12</td>\n",
       "      <td>&lt;1</td>\n",
       "      <td>&lt;1</td>\n",
       "      <td>&lt;1</td>\n",
       "      <td>2</td>\n",
       "    </tr>\n",
       "    <tr>\n",
       "      <th>2</th>\n",
       "      <td>2007-03</td>\n",
       "      <td>9</td>\n",
       "      <td>&lt;1</td>\n",
       "      <td>&lt;1</td>\n",
       "      <td>&lt;1</td>\n",
       "      <td>1</td>\n",
       "    </tr>\n",
       "    <tr>\n",
       "      <th>3</th>\n",
       "      <td>2007-04</td>\n",
       "      <td>6</td>\n",
       "      <td>&lt;1</td>\n",
       "      <td>&lt;1</td>\n",
       "      <td>&lt;1</td>\n",
       "      <td>1</td>\n",
       "    </tr>\n",
       "    <tr>\n",
       "      <th>4</th>\n",
       "      <td>2007-05</td>\n",
       "      <td>6</td>\n",
       "      <td>&lt;1</td>\n",
       "      <td>&lt;1</td>\n",
       "      <td>&lt;1</td>\n",
       "      <td>2</td>\n",
       "    </tr>\n",
       "  </tbody>\n",
       "</table>\n",
       "</div>"
      ],
      "text/plain": [
       "     Month  Kim Kardashian: (Worldwide) Khloé Kardashian: (Worldwide)  \\\n",
       "0  2007-01                            2                            <1   \n",
       "1  2007-02                           12                            <1   \n",
       "2  2007-03                            9                            <1   \n",
       "3  2007-04                            6                            <1   \n",
       "4  2007-05                            6                            <1   \n",
       "\n",
       "  Kourtney Kardashian: (Worldwide) Kendall Jenner: (Worldwide)  \\\n",
       "0                               <1                          <1   \n",
       "1                               <1                          <1   \n",
       "2                               <1                          <1   \n",
       "3                               <1                          <1   \n",
       "4                               <1                          <1   \n",
       "\n",
       "   Kylie Jenner: (Worldwide)  \n",
       "0                          2  \n",
       "1                          2  \n",
       "2                          1  \n",
       "3                          1  \n",
       "4                          2  "
      ]
     },
     "execution_count": 1,
     "metadata": {},
     "output_type": "execute_result"
    }
   ],
   "source": [
    "# Load pandas\n",
    "import pandas as pd\n",
    "\n",
    "# Read in dataset\n",
    "trends = pd.read_csv('datasets/trends_kj_sisters.csv')\n",
    "\n",
    "# Inspect data\n",
    "trends.head()"
   ]
  },
  {
   "cell_type": "markdown",
   "metadata": {
    "dc": {
     "key": "10"
    },
    "deletable": false,
    "editable": false,
    "run_control": {
     "frozen": true
    },
    "tags": [
     "context"
    ]
   },
   "source": [
    "## 2. Better \"kolumn\" names\n",
    "<p>So we have a column for each month since January 2007 and a column for the worldwide search interest for each of the sisters each month. By the way, Google defines the values of search interest as:</p>\n",
    "<blockquote>\n",
    "  <p>Numbers represent search interest relative to the highest point on the chart for the given region and time. A value of 100 is the peak popularity for the term. A value of 50 means that the term is half as popular. A score of 0 means there was not enough data for this term.</p>\n",
    "</blockquote>\n",
    "<p>Okay, that's great Google, but you are not making this data easily analyzable for us. I see a few things. Let's do the column names first. A column named \"Kim Kardashian: (Worldwide)\" is not the most usable for coding purposes. Let's shorten those so we can access their values better. Might as well standardize all column formats, too. I like lowercase, short column names.</p>"
   ]
  },
  {
   "cell_type": "code",
   "execution_count": 2,
   "metadata": {
    "dc": {
     "key": "10"
    },
    "tags": [
     "sample_code"
    ]
   },
   "outputs": [
    {
     "data": {
      "text/html": [
       "<div>\n",
       "<style scoped>\n",
       "    .dataframe tbody tr th:only-of-type {\n",
       "        vertical-align: middle;\n",
       "    }\n",
       "\n",
       "    .dataframe tbody tr th {\n",
       "        vertical-align: top;\n",
       "    }\n",
       "\n",
       "    .dataframe thead th {\n",
       "        text-align: right;\n",
       "    }\n",
       "</style>\n",
       "<table border=\"1\" class=\"dataframe\">\n",
       "  <thead>\n",
       "    <tr style=\"text-align: right;\">\n",
       "      <th></th>\n",
       "      <th>month</th>\n",
       "      <th>kim</th>\n",
       "      <th>khloe</th>\n",
       "      <th>kourtney</th>\n",
       "      <th>kendall</th>\n",
       "      <th>kylie</th>\n",
       "    </tr>\n",
       "  </thead>\n",
       "  <tbody>\n",
       "    <tr>\n",
       "      <th>0</th>\n",
       "      <td>2007-01</td>\n",
       "      <td>2</td>\n",
       "      <td>&lt;1</td>\n",
       "      <td>&lt;1</td>\n",
       "      <td>&lt;1</td>\n",
       "      <td>2</td>\n",
       "    </tr>\n",
       "    <tr>\n",
       "      <th>1</th>\n",
       "      <td>2007-02</td>\n",
       "      <td>12</td>\n",
       "      <td>&lt;1</td>\n",
       "      <td>&lt;1</td>\n",
       "      <td>&lt;1</td>\n",
       "      <td>2</td>\n",
       "    </tr>\n",
       "    <tr>\n",
       "      <th>2</th>\n",
       "      <td>2007-03</td>\n",
       "      <td>9</td>\n",
       "      <td>&lt;1</td>\n",
       "      <td>&lt;1</td>\n",
       "      <td>&lt;1</td>\n",
       "      <td>1</td>\n",
       "    </tr>\n",
       "    <tr>\n",
       "      <th>3</th>\n",
       "      <td>2007-04</td>\n",
       "      <td>6</td>\n",
       "      <td>&lt;1</td>\n",
       "      <td>&lt;1</td>\n",
       "      <td>&lt;1</td>\n",
       "      <td>1</td>\n",
       "    </tr>\n",
       "    <tr>\n",
       "      <th>4</th>\n",
       "      <td>2007-05</td>\n",
       "      <td>6</td>\n",
       "      <td>&lt;1</td>\n",
       "      <td>&lt;1</td>\n",
       "      <td>&lt;1</td>\n",
       "      <td>2</td>\n",
       "    </tr>\n",
       "  </tbody>\n",
       "</table>\n",
       "</div>"
      ],
      "text/plain": [
       "     month  kim khloe kourtney kendall  kylie\n",
       "0  2007-01    2    <1       <1      <1      2\n",
       "1  2007-02   12    <1       <1      <1      2\n",
       "2  2007-03    9    <1       <1      <1      1\n",
       "3  2007-04    6    <1       <1      <1      1\n",
       "4  2007-05    6    <1       <1      <1      2"
      ]
     },
     "execution_count": 2,
     "metadata": {},
     "output_type": "execute_result"
    }
   ],
   "source": [
    "# Make column names easier to work with\n",
    "trends.columns = ['month','kim','khloe','kourtney','kendall','kylie']\n",
    "\n",
    "# Inspect data\n",
    "trends.head()"
   ]
  },
  {
   "cell_type": "markdown",
   "metadata": {
    "dc": {
     "key": "17"
    },
    "deletable": false,
    "editable": false,
    "run_control": {
     "frozen": true
    },
    "tags": [
     "context"
    ]
   },
   "source": [
    "## 3. Pesky data types\n",
    "<p>That's better. We don't need to scroll our eyes across the table to read the values anymore since it is much less wide. And seeing five columns that all start with the letter \"k\" … the aesthetics … we should call them \"kolumns\" now! (Bad joke.)</p>\n",
    "<p>The next thing I see that is going to be an issue is that \"&lt;\" sign. If <em>\"a score of 0 means there was not enough data for this term,\"</em> \"&lt;1\" must mean it is between 0 and 1 and Google does not want to give us the fraction from google.trends.com for whatever reason. That's fine, but this \"&lt;\" sign means we won't be able to analyze or visualize our data right away because those column values aren't going to be represented as numbers in our data structure. Let's confirm that by inspecting our data types.</p>"
   ]
  },
  {
   "cell_type": "code",
   "execution_count": 3,
   "metadata": {
    "dc": {
     "key": "17"
    },
    "tags": [
     "sample_code"
    ]
   },
   "outputs": [
    {
     "name": "stdout",
     "output_type": "stream",
     "text": [
      "<class 'pandas.core.frame.DataFrame'>\n",
      "RangeIndex: 147 entries, 0 to 146\n",
      "Data columns (total 6 columns):\n",
      " #   Column    Non-Null Count  Dtype \n",
      "---  ------    --------------  ----- \n",
      " 0   month     147 non-null    object\n",
      " 1   kim       147 non-null    int64 \n",
      " 2   khloe     147 non-null    object\n",
      " 3   kourtney  147 non-null    object\n",
      " 4   kendall   147 non-null    object\n",
      " 5   kylie     147 non-null    int64 \n",
      "dtypes: int64(2), object(4)\n",
      "memory usage: 7.0+ KB\n"
     ]
    }
   ],
   "source": [
    "# Inspect data types\n",
    "trends.info()"
   ]
  },
  {
   "cell_type": "markdown",
   "metadata": {
    "dc": {
     "key": "24"
    },
    "deletable": false,
    "editable": false,
    "run_control": {
     "frozen": true
    },
    "tags": [
     "context"
    ]
   },
   "source": [
    "## 4. From object to integer\n",
    "<p>Yes, okay, the <code>khloe</code>, <code>kourtney</code>, and <code>kendall</code> columns aren't integers like the <code>kim</code> and <code>kylie</code> columns are. Again, because of the \"&lt;\" sign that indicates a search interest value between zero and one. Is this an early hint at the hierarchy of sister popularity? We'll see shortly. Before that, we'll need to remove that pesky \"&lt;\" sign. Then we can change the type of those columns to integer.</p>"
   ]
  },
  {
   "cell_type": "code",
   "execution_count": 4,
   "metadata": {
    "dc": {
     "key": "24"
    },
    "tags": [
     "sample_code"
    ]
   },
   "outputs": [
    {
     "name": "stdout",
     "output_type": "stream",
     "text": [
      "<class 'pandas.core.frame.DataFrame'>\n",
      "RangeIndex: 147 entries, 0 to 146\n",
      "Data columns (total 6 columns):\n",
      " #   Column    Non-Null Count  Dtype \n",
      "---  ------    --------------  ----- \n",
      " 0   month     147 non-null    object\n",
      " 1   kim       147 non-null    int64 \n",
      " 2   khloe     147 non-null    int64 \n",
      " 3   kourtney  147 non-null    int64 \n",
      " 4   kendall   147 non-null    int64 \n",
      " 5   kylie     147 non-null    int64 \n",
      "dtypes: int64(5), object(1)\n",
      "memory usage: 7.0+ KB\n"
     ]
    },
    {
     "data": {
      "text/html": [
       "<div>\n",
       "<style scoped>\n",
       "    .dataframe tbody tr th:only-of-type {\n",
       "        vertical-align: middle;\n",
       "    }\n",
       "\n",
       "    .dataframe tbody tr th {\n",
       "        vertical-align: top;\n",
       "    }\n",
       "\n",
       "    .dataframe thead th {\n",
       "        text-align: right;\n",
       "    }\n",
       "</style>\n",
       "<table border=\"1\" class=\"dataframe\">\n",
       "  <thead>\n",
       "    <tr style=\"text-align: right;\">\n",
       "      <th></th>\n",
       "      <th>month</th>\n",
       "      <th>kim</th>\n",
       "      <th>khloe</th>\n",
       "      <th>kourtney</th>\n",
       "      <th>kendall</th>\n",
       "      <th>kylie</th>\n",
       "    </tr>\n",
       "  </thead>\n",
       "  <tbody>\n",
       "    <tr>\n",
       "      <th>0</th>\n",
       "      <td>2007-01</td>\n",
       "      <td>2</td>\n",
       "      <td>1</td>\n",
       "      <td>1</td>\n",
       "      <td>1</td>\n",
       "      <td>2</td>\n",
       "    </tr>\n",
       "    <tr>\n",
       "      <th>1</th>\n",
       "      <td>2007-02</td>\n",
       "      <td>12</td>\n",
       "      <td>1</td>\n",
       "      <td>1</td>\n",
       "      <td>1</td>\n",
       "      <td>2</td>\n",
       "    </tr>\n",
       "    <tr>\n",
       "      <th>2</th>\n",
       "      <td>2007-03</td>\n",
       "      <td>9</td>\n",
       "      <td>1</td>\n",
       "      <td>1</td>\n",
       "      <td>1</td>\n",
       "      <td>1</td>\n",
       "    </tr>\n",
       "    <tr>\n",
       "      <th>3</th>\n",
       "      <td>2007-04</td>\n",
       "      <td>6</td>\n",
       "      <td>1</td>\n",
       "      <td>1</td>\n",
       "      <td>1</td>\n",
       "      <td>1</td>\n",
       "    </tr>\n",
       "    <tr>\n",
       "      <th>4</th>\n",
       "      <td>2007-05</td>\n",
       "      <td>6</td>\n",
       "      <td>1</td>\n",
       "      <td>1</td>\n",
       "      <td>1</td>\n",
       "      <td>2</td>\n",
       "    </tr>\n",
       "  </tbody>\n",
       "</table>\n",
       "</div>"
      ],
      "text/plain": [
       "     month  kim  khloe  kourtney  kendall  kylie\n",
       "0  2007-01    2      1         1        1      2\n",
       "1  2007-02   12      1         1        1      2\n",
       "2  2007-03    9      1         1        1      1\n",
       "3  2007-04    6      1         1        1      1\n",
       "4  2007-05    6      1         1        1      2"
      ]
     },
     "execution_count": 4,
     "metadata": {},
     "output_type": "execute_result"
    }
   ],
   "source": [
    "# Loop through columns\n",
    "for column in trends.columns:\n",
    "    # Only modify columns that have the \"<\" sign\n",
    "    if \"<\" in trends[column].to_string():\n",
    "        # Remove \"<\" and convert dtype to integer\n",
    "        trends[column] = trends[column].str.replace(\"<\",\"\")\n",
    "        trends[column] = pd.to_numeric(trends[column])\n",
    "\n",
    "# Inspect data types and data\n",
    "trends.info()\n",
    "trends.head()"
   ]
  },
  {
   "cell_type": "markdown",
   "metadata": {
    "dc": {
     "key": "31"
    },
    "deletable": false,
    "editable": false,
    "run_control": {
     "frozen": true
    },
    "tags": [
     "context"
    ]
   },
   "source": [
    "## 5. From object to datetime\n",
    "<p>Okay, great, no more \"&lt;\" signs. All the sister columns are of integer type.</p>\n",
    "<p>Now let's convert our <code>month</code> column from type object to datetime to make our date data more accessible.</p>"
   ]
  },
  {
   "cell_type": "code",
   "execution_count": 5,
   "metadata": {
    "dc": {
     "key": "31"
    },
    "tags": [
     "sample_code"
    ]
   },
   "outputs": [
    {
     "name": "stdout",
     "output_type": "stream",
     "text": [
      "<class 'pandas.core.frame.DataFrame'>\n",
      "RangeIndex: 147 entries, 0 to 146\n",
      "Data columns (total 6 columns):\n",
      " #   Column    Non-Null Count  Dtype         \n",
      "---  ------    --------------  -----         \n",
      " 0   month     147 non-null    datetime64[ns]\n",
      " 1   kim       147 non-null    int64         \n",
      " 2   khloe     147 non-null    int64         \n",
      " 3   kourtney  147 non-null    int64         \n",
      " 4   kendall   147 non-null    int64         \n",
      " 5   kylie     147 non-null    int64         \n",
      "dtypes: datetime64[ns](1), int64(5)\n",
      "memory usage: 7.0 KB\n"
     ]
    },
    {
     "data": {
      "text/html": [
       "<div>\n",
       "<style scoped>\n",
       "    .dataframe tbody tr th:only-of-type {\n",
       "        vertical-align: middle;\n",
       "    }\n",
       "\n",
       "    .dataframe tbody tr th {\n",
       "        vertical-align: top;\n",
       "    }\n",
       "\n",
       "    .dataframe thead th {\n",
       "        text-align: right;\n",
       "    }\n",
       "</style>\n",
       "<table border=\"1\" class=\"dataframe\">\n",
       "  <thead>\n",
       "    <tr style=\"text-align: right;\">\n",
       "      <th></th>\n",
       "      <th>month</th>\n",
       "      <th>kim</th>\n",
       "      <th>khloe</th>\n",
       "      <th>kourtney</th>\n",
       "      <th>kendall</th>\n",
       "      <th>kylie</th>\n",
       "    </tr>\n",
       "  </thead>\n",
       "  <tbody>\n",
       "    <tr>\n",
       "      <th>0</th>\n",
       "      <td>2007-01-01</td>\n",
       "      <td>2</td>\n",
       "      <td>1</td>\n",
       "      <td>1</td>\n",
       "      <td>1</td>\n",
       "      <td>2</td>\n",
       "    </tr>\n",
       "    <tr>\n",
       "      <th>1</th>\n",
       "      <td>2007-02-01</td>\n",
       "      <td>12</td>\n",
       "      <td>1</td>\n",
       "      <td>1</td>\n",
       "      <td>1</td>\n",
       "      <td>2</td>\n",
       "    </tr>\n",
       "    <tr>\n",
       "      <th>2</th>\n",
       "      <td>2007-03-01</td>\n",
       "      <td>9</td>\n",
       "      <td>1</td>\n",
       "      <td>1</td>\n",
       "      <td>1</td>\n",
       "      <td>1</td>\n",
       "    </tr>\n",
       "    <tr>\n",
       "      <th>3</th>\n",
       "      <td>2007-04-01</td>\n",
       "      <td>6</td>\n",
       "      <td>1</td>\n",
       "      <td>1</td>\n",
       "      <td>1</td>\n",
       "      <td>1</td>\n",
       "    </tr>\n",
       "    <tr>\n",
       "      <th>4</th>\n",
       "      <td>2007-05-01</td>\n",
       "      <td>6</td>\n",
       "      <td>1</td>\n",
       "      <td>1</td>\n",
       "      <td>1</td>\n",
       "      <td>2</td>\n",
       "    </tr>\n",
       "  </tbody>\n",
       "</table>\n",
       "</div>"
      ],
      "text/plain": [
       "       month  kim  khloe  kourtney  kendall  kylie\n",
       "0 2007-01-01    2      1         1        1      2\n",
       "1 2007-02-01   12      1         1        1      2\n",
       "2 2007-03-01    9      1         1        1      1\n",
       "3 2007-04-01    6      1         1        1      1\n",
       "4 2007-05-01    6      1         1        1      2"
      ]
     },
     "execution_count": 5,
     "metadata": {},
     "output_type": "execute_result"
    }
   ],
   "source": [
    "# Convert month to type datetime\n",
    "trends.month = pd.to_datetime(trends.month)\n",
    "\n",
    "# Inspect data types and data\n",
    "trends.info()\n",
    "trends.head()"
   ]
  },
  {
   "cell_type": "markdown",
   "metadata": {
    "dc": {
     "key": "38"
    },
    "deletable": false,
    "editable": false,
    "run_control": {
     "frozen": true
    },
    "tags": [
     "context"
    ]
   },
   "source": [
    "## 6. Set month as index\n",
    "<p>And finally, let's set the <code>month</code> column as our index to wrap our data cleaning. Having <code>month</code> as index rather than the zero-based row numbers will allow us to write shorter lines of code to create plots, where <code>month</code> will represent our x-axis.</p>"
   ]
  },
  {
   "cell_type": "code",
   "execution_count": 6,
   "metadata": {
    "dc": {
     "key": "38"
    },
    "tags": [
     "sample_code"
    ]
   },
   "outputs": [
    {
     "data": {
      "text/html": [
       "<div>\n",
       "<style scoped>\n",
       "    .dataframe tbody tr th:only-of-type {\n",
       "        vertical-align: middle;\n",
       "    }\n",
       "\n",
       "    .dataframe tbody tr th {\n",
       "        vertical-align: top;\n",
       "    }\n",
       "\n",
       "    .dataframe thead th {\n",
       "        text-align: right;\n",
       "    }\n",
       "</style>\n",
       "<table border=\"1\" class=\"dataframe\">\n",
       "  <thead>\n",
       "    <tr style=\"text-align: right;\">\n",
       "      <th></th>\n",
       "      <th>kim</th>\n",
       "      <th>khloe</th>\n",
       "      <th>kourtney</th>\n",
       "      <th>kendall</th>\n",
       "      <th>kylie</th>\n",
       "    </tr>\n",
       "    <tr>\n",
       "      <th>month</th>\n",
       "      <th></th>\n",
       "      <th></th>\n",
       "      <th></th>\n",
       "      <th></th>\n",
       "      <th></th>\n",
       "    </tr>\n",
       "  </thead>\n",
       "  <tbody>\n",
       "    <tr>\n",
       "      <th>2007-01-01</th>\n",
       "      <td>2</td>\n",
       "      <td>1</td>\n",
       "      <td>1</td>\n",
       "      <td>1</td>\n",
       "      <td>2</td>\n",
       "    </tr>\n",
       "    <tr>\n",
       "      <th>2007-02-01</th>\n",
       "      <td>12</td>\n",
       "      <td>1</td>\n",
       "      <td>1</td>\n",
       "      <td>1</td>\n",
       "      <td>2</td>\n",
       "    </tr>\n",
       "    <tr>\n",
       "      <th>2007-03-01</th>\n",
       "      <td>9</td>\n",
       "      <td>1</td>\n",
       "      <td>1</td>\n",
       "      <td>1</td>\n",
       "      <td>1</td>\n",
       "    </tr>\n",
       "    <tr>\n",
       "      <th>2007-04-01</th>\n",
       "      <td>6</td>\n",
       "      <td>1</td>\n",
       "      <td>1</td>\n",
       "      <td>1</td>\n",
       "      <td>1</td>\n",
       "    </tr>\n",
       "    <tr>\n",
       "      <th>2007-05-01</th>\n",
       "      <td>6</td>\n",
       "      <td>1</td>\n",
       "      <td>1</td>\n",
       "      <td>1</td>\n",
       "      <td>2</td>\n",
       "    </tr>\n",
       "  </tbody>\n",
       "</table>\n",
       "</div>"
      ],
      "text/plain": [
       "            kim  khloe  kourtney  kendall  kylie\n",
       "month                                           \n",
       "2007-01-01    2      1         1        1      2\n",
       "2007-02-01   12      1         1        1      2\n",
       "2007-03-01    9      1         1        1      1\n",
       "2007-04-01    6      1         1        1      1\n",
       "2007-05-01    6      1         1        1      2"
      ]
     },
     "execution_count": 6,
     "metadata": {},
     "output_type": "execute_result"
    }
   ],
   "source": [
    "# Set month as DataFrame index\n",
    "trends = trends.set_index('month')\n",
    "\n",
    "# Inspect the data\n",
    "trends.head()"
   ]
  },
  {
   "cell_type": "markdown",
   "metadata": {
    "dc": {
     "key": "45"
    },
    "deletable": false,
    "editable": false,
    "run_control": {
     "frozen": true
    },
    "tags": [
     "context"
    ]
   },
   "source": [
    "## 7. The early Kim hype\n",
    "<p>Okay! So our data is ready to plot. Because we cleaned our data, we only need one line of code (and just <em>thirteen</em> characters!) to remake the Google Trends chart, plus another line to make the plot show up in our notebook.</p>"
   ]
  },
  {
   "cell_type": "code",
   "execution_count": 7,
   "metadata": {
    "dc": {
     "key": "45"
    },
    "tags": [
     "sample_code"
    ]
   },
   "outputs": [
    {
     "data": {
      "text/plain": [
       "<matplotlib.axes._subplots.AxesSubplot at 0x1f259dde8d0>"
      ]
     },
     "execution_count": 7,
     "metadata": {},
     "output_type": "execute_result"
    },
    {
     "data": {
      "image/png": "[encoded data removed]",
      "text/plain": [
       "<Figure size 432x288 with 1 Axes>"
      ]
     },
     "metadata": {
      "needs_background": "light"
     },
     "output_type": "display_data"
    }
   ],
   "source": [
    "# Plot search interest vs. month\n",
    "%matplotlib inline\n",
    "trends.plot()"
   ]
  },
  {
   "cell_type": "markdown",
   "metadata": {
    "dc": {
     "key": "52"
    },
    "deletable": false,
    "editable": false,
    "run_control": {
     "frozen": true
    },
    "tags": [
     "context"
    ]
   },
   "source": [
    "## 8. Kylie's rise\n",
    "<p>Oh my! There is so much to make sense of here. Kim's <a href=\"https://en.wikipedia.org/wiki/Kim_Kardashian#2007%E2%80%932009:_Breakthrough_with_reality_television\">sharp rise in 2007</a>, with the beginning of <a href=\"https://en.wikipedia.org/wiki/Keeping_Up_with_the_Kardashians\"><em>Keeping Up with the Kardashians</em></a>, among other things. There was no significant search interest for the other four sisters until mid-2009 when Kourtney and Khloé launched the reality television series, <a href=\"https://en.wikipedia.org/wiki/Kourtney_and_Kim_Take_Miami\"><em>Kourtney and Khloé Take Miami</em></a>. Then there was Kim's rise from famous to <a href=\"https://trends.google.com/trends/explore?date=all&geo=US&q=%2Fm%2F0261x8t,%2Fm%2F0d05l6\">literally more famous than God</a> in 2011. This Cosmopolitan <a href=\"https://www.cosmopolitan.com/uk/entertainment/a12464842/who-is-kim-kardashian/\">article</a> covers the timeline that includes the launch of music videos, fragrances,  iPhone and Android games, another television series, joining Instagram, and more. Then there was Kim's ridiculous spike in December 2014: posing naked on the cover of Paper Magazine in a bid to break the internet will do that for you.</p>\n",
    "<p>A curious thing starts to happen after that bid as well. Let's zoom in…</p>"
   ]
  },
  {
   "cell_type": "code",
   "execution_count": 8,
   "metadata": {
    "dc": {
     "key": "52"
    },
    "tags": [
     "sample_code"
    ]
   },
   "outputs": [
    {
     "data": {
      "text/plain": [
       "<matplotlib.axes._subplots.AxesSubplot at 0x1f25a5aa9b0>"
      ]
     },
     "execution_count": 8,
     "metadata": {},
     "output_type": "execute_result"
    },
    {
     "data": {
      "image/png": "[encoded data removed]",
      "text/plain": [
       "<Figure size 432x288 with 1 Axes>"
      ]
     },
     "metadata": {
      "needs_background": "light"
     },
     "output_type": "display_data"
    }
   ],
   "source": [
    "# Zoom in from January 2014\n",
    "trends.loc[\"2014-01-01\":].plot()"
   ]
  },
  {
   "cell_type": "markdown",
   "metadata": {
    "dc": {
     "key": "59"
    },
    "deletable": false,
    "editable": false,
    "run_control": {
     "frozen": true
    },
    "tags": [
     "context"
    ]
   },
   "source": [
    "## 9. Smooth out the fluctuations with rolling means\n",
    "<p>It looks like my suspicion may be true: Kim is not always the most searched Kardashian or Jenner sister. Since late-2016, at various months, Kylie overtakes Kim. Two big spikes where she smashed Kim's search interest: in September 2017 when it was reported that Kylie was expecting her first child with rapper <a href=\"https://en.wikipedia.org/wiki/Travis_Scott\">Travis Scott</a> and in February 2018 when she gave birth to her daughter, Stormi Webster. The continued success of Kylie Cosmetics has kept her in the news, not to mention making her the \"The Youngest Self-Made Billionaire Ever\" <a href=\"https://www.forbes.com/sites/natalierobehmed/2019/03/05/at-21-kylie-jenner-becomes-the-youngest-self-made-billionaire-ever/#57e612c02794\">according to Forbes</a>.</p>\n",
    "<p>These fluctuations are descriptive but do not really help us answer our question: is Kim even the most famous sister anymore? We can use rolling means to smooth out short-term fluctuations in time series data and highlight long-term trends. Let's make the window twelve months a.k.a. one year.</p>"
   ]
  },
  {
   "cell_type": "code",
   "execution_count": 9,
   "metadata": {
    "dc": {
     "key": "59"
    },
    "tags": [
     "sample_code"
    ]
   },
   "outputs": [
    {
     "data": {
      "text/plain": [
       "<matplotlib.axes._subplots.AxesSubplot at 0x1f25a677080>"
      ]
     },
     "execution_count": 9,
     "metadata": {},
     "output_type": "execute_result"
    },
    {
     "data": {
      "image/png": "[encoded data removed]",
      "text/plain": [
       "<Figure size 432x288 with 1 Axes>"
      ]
     },
     "metadata": {
      "needs_background": "light"
     },
     "output_type": "display_data"
    }
   ],
   "source": [
    "# Smooth the data with rolling means\n",
    "trends.rolling(window=12).mean().plot()"
   ]
  },
  {
   "cell_type": "markdown",
   "metadata": {
    "dc": {
     "key": "66"
    },
    "deletable": false,
    "editable": false,
    "run_control": {
     "frozen": true
    },
    "tags": [
     "context"
    ]
   },
   "source": [
    "## 10. Who's more famous? The Kardashians or the Jenners?\n",
    "<p>Whoa, okay! So by this metric, Kim is still the most famous sister despite Kylie being close and nearly taking her crown. Honestly, the biggest takeaway from this whole exercise might be Kendall not showing up that much. It makes sense, though, despite her <a href=\"http://time.com/money/5033357/kendall-jenner-makes-more-than-gisele-bundchen/\">wildly successful modeling career</a>. Some have called her \"<a href=\"https://www.nickiswift.com/5681/kendall-jenner-normal-one-family/\">the only normal one in her family</a>\" as she tends to shy away from the more dramatic and controversial parts of the media limelight that generate oh so many clicks.</p>\n",
    "<p>Let's end this analysis with one last plot. In it, we will plot (pun!) the Kardashian sisters against the Jenner sisters to see which family line is more popular now. We will use average search interest to make things fair, i.e., total search interest divided by the number of sisters in the family line.</p>\n",
    "<p><strong>The answer?</strong> Since 2015, it has been a toss-up. And in the future? With this family and their penchant for big events, who knows?</p>"
   ]
  },
  {
   "cell_type": "code",
   "execution_count": 10,
   "metadata": {
    "dc": {
     "key": "66"
    },
    "tags": [
     "sample_code"
    ]
   },
   "outputs": [
    {
     "data": {
      "text/plain": [
       "<matplotlib.axes._subplots.AxesSubplot at 0x1f25a751cf8>"
      ]
     },
     "execution_count": 10,
     "metadata": {},
     "output_type": "execute_result"
    },
    {
     "data": {
      "image/png": "[encoded data removed]",
      "text/plain": [
       "<Figure size 432x288 with 1 Axes>"
      ]
     },
     "metadata": {
      "needs_background": "light"
     },
     "output_type": "display_data"
    }
   ],
   "source": [
    "# Average search interest for each family line\n",
    "trends['kardashian'] = (trends.kim + trends.khloe + trends.kourtney)/3\n",
    "trends['jenner'] = (trends.kendall + trends.kylie)/2\n",
    "\n",
    "# Plot average family line search interest vs. month\n",
    "trends[['kardashian','jenner']].plot()"
   ]
  }
 ],
 "metadata": {
  "kernelspec": {
   "display_name": "Python 3",
   "language": "python",
   "name": "python3"
  },
  "language_info": {
   "codemirror_mode": {
    "name": "ipython",
    "version": 3
   },
   "file_extension": ".py",
   "mimetype": "text/x-python",
   "name": "python",
   "nbconvert_exporter": "python",
   "pygments_lexer": "ipython3",
   "version": "3.7.3"
  }
 },
 "nbformat": 4,
 "nbformat_minor": 2
}
